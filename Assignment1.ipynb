{
 "cells": [
  {
   "cell_type": "markdown",
   "id": "1b7ea91e-f49c-4744-b043-3b3d70a0b835",
   "metadata": {},
   "source": [
    "Assignment by Shubham"
   ]
  },
  {
   "cell_type": "markdown",
   "id": "13cb7a83-eb36-4670-aec5-674258d29a02",
   "metadata": {},
   "source": [
    "Hello my name is shubham and this notebook is my first assignment, i'm using anaconda for that."
   ]
  },
  {
   "cell_type": "markdown",
   "id": "3708372c-9315-405c-a83c-1fabe1dcae48",
   "metadata": {},
   "source": [
    "List of Data Science Languages are:\n",
    "1.Python\n",
    "2.R\n",
    "3.SQL\n",
    "4.JAVA\n",
    "5.Scala\n",
    "6.MATLAB\n",
    "7.C++\n",
    "8.JavaScript"
   ]
  },
  {
   "cell_type": "markdown",
   "id": "2e553e28-bc78-4377-a251-2fc07aa4d29c",
   "metadata": {},
   "source": [
    "List of Data Science libraries:\n",
    "1. Data Manipulation and Analysis\n",
    "   Pandas, NumPy\n",
    "2. Machine Learning and Deep Learning\n",
    "   Scikit-learn, TensorFlow, PyTorch\n",
    "3. Data Visualization\n",
    "   Matplotlib, Plotly, Seaborn\n",
    "4. Big Data\n",
    "   Apache Spark, Hadoop etc"
   ]
  },
  {
   "cell_type": "markdown",
   "id": "0a032f0c-fad6-4469-8c8a-3a851d05e57f",
   "metadata": {},
   "source": [
    "Table of Data Science Tools:\n",
    "____________________________________________________________\n",
    "|      Function       |            Tool Names              |\n",
    "------------------------------------------------------------\n",
    "|    Development      |     Jupyter Notebook, Spyder,      |\n",
    "|    Environment      |            Rstudio VScode          |\n",
    "---------------------------------------------------------- |\n",
    "|   Data Handling     |     Apache Hadoop, Apache Spark,   |\n",
    "|    & Analysis       |           Microsoft Excel          |\n",
    "------------------------------------------------------------\n",
    "|  Machine Learning   |     TensorFlow, PyTorch, Keras,    |\n",
    "|     & A.I.          |     Scikit-learn, Google Colab     |\n",
    "------------------------------------------------------------\n",
    "| Data Visualization  |         Matplotlib, Seaborn,       |\n",
    "------------------------------------------------------------\n",
    "| Database Management |            SQL, MongoDB            |\n",
    "------------------------------------------------------------"
   ]
  },
  {
   "cell_type": "markdown",
   "id": "261de15b-5e4c-451f-920c-b21bdd8f86f1",
   "metadata": {},
   "source": [
    "# Addition\n",
    "a = 5 + 3\n",
    "print(a) # Output:8"
   ]
  },
  {
   "cell_type": "code",
   "execution_count": 1,
   "id": "7cdd57bc-ea16-4fde-af34-5e28a2ab48a2",
   "metadata": {},
   "outputs": [
    {
     "name": "stdout",
     "output_type": "stream",
     "text": [
      "6\n",
      "8\n"
     ]
    }
   ],
   "source": [
    "#Addition\n",
    "a = 2 + 4\n",
    "print(a)\n",
    "#Multiplication\n",
    "m = 2 * 4\n",
    "print(m)"
   ]
  },
  {
   "cell_type": "code",
   "execution_count": 4,
   "id": "b9fba227-8192-431d-af84-a4526d95d3a0",
   "metadata": {},
   "outputs": [
    {
     "name": "stdout",
     "output_type": "stream",
     "text": [
      "Enter the time in minutes =\n"
     ]
    },
    {
     "name": "stdin",
     "output_type": "stream",
     "text": [
      " 735\n"
     ]
    },
    {
     "name": "stdout",
     "output_type": "stream",
     "text": [
      "12.25\n"
     ]
    }
   ],
   "source": [
    "# Minutes to hours :\n",
    "print('Enter the time in minutes =')\n",
    "t = int(input())\n",
    "thr = t/60\n",
    "print(thr)"
   ]
  },
  {
   "cell_type": "markdown",
   "id": "40a51e73-b025-4f07-b6ba-45fc7ff7a0c8",
   "metadata": {},
   "source": [
    "# Objective :\n",
    "\"This Jupyter notebook serves as my first assignment in IBM's Data Science course. It introduces fundamental data analysis techniques using Python, NumPy, and Pandas. The goal is to explore real-world datasets, perform basic manipulations, and gain insights through visualization. By completing this notebook, I will strengthen my foundational understanding of data science concepts and develop essential coding skills for future projects.\""
   ]
  },
  {
   "cell_type": "markdown",
   "id": "27c23500-4de4-4c55-931b-3a54a192d2e2",
   "metadata": {},
   "source": [
    "# Author :\n",
    "Shubham Uniyal"
   ]
  }
 ],
 "metadata": {
  "kernelspec": {
   "display_name": "Python [conda env:base] *",
   "language": "python",
   "name": "conda-base-py"
  },
  "language_info": {
   "codemirror_mode": {
    "name": "ipython",
    "version": 3
   },
   "file_extension": ".py",
   "mimetype": "text/x-python",
   "name": "python",
   "nbconvert_exporter": "python",
   "pygments_lexer": "ipython3",
   "version": "3.12.7"
  }
 },
 "nbformat": 4,
 "nbformat_minor": 5
}
